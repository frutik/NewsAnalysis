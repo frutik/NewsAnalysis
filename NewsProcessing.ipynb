{
 "cells": [
  {
   "cell_type": "code",
   "execution_count": 3,
   "metadata": {
    "collapsed": false
   },
   "outputs": [
    {
     "ename": "ValueError",
     "evalue": "Cannot run multiple SparkContexts at once; existing SparkContext(app=News Processing, master=local) created by __init__ at <ipython-input-1-da79fb8e4351>:8 ",
     "output_type": "error",
     "traceback": [
      "\u001b[1;31m---------------------------------------------------------------------------\u001b[0m",
      "\u001b[1;31mValueError\u001b[0m                                Traceback (most recent call last)",
      "\u001b[1;32m<ipython-input-3-da79fb8e4351>\u001b[0m in \u001b[0;36m<module>\u001b[1;34m()\u001b[0m\n\u001b[0;32m      6\u001b[0m          .set(\"spark.executor.memory\", \"9g\"))\n\u001b[0;32m      7\u001b[0m \u001b[1;33m\u001b[0m\u001b[0m\n\u001b[1;32m----> 8\u001b[1;33m \u001b[0msc\u001b[0m \u001b[1;33m=\u001b[0m \u001b[0mSparkContext\u001b[0m\u001b[1;33m(\u001b[0m\u001b[0mconf\u001b[0m \u001b[1;33m=\u001b[0m \u001b[0mconf\u001b[0m\u001b[1;33m)\u001b[0m\u001b[1;33m\u001b[0m\u001b[0m\n\u001b[0m",
      "\u001b[1;32m/opt/spark/python/pyspark/context.pyc\u001b[0m in \u001b[0;36m__init__\u001b[1;34m(self, master, appName, sparkHome, pyFiles, environment, batchSize, serializer, conf, gateway, jsc, profiler_cls)\u001b[0m\n\u001b[0;32m    108\u001b[0m         \"\"\"\n\u001b[0;32m    109\u001b[0m         \u001b[0mself\u001b[0m\u001b[1;33m.\u001b[0m\u001b[0m_callsite\u001b[0m \u001b[1;33m=\u001b[0m \u001b[0mfirst_spark_call\u001b[0m\u001b[1;33m(\u001b[0m\u001b[1;33m)\u001b[0m \u001b[1;32mor\u001b[0m \u001b[0mCallSite\u001b[0m\u001b[1;33m(\u001b[0m\u001b[0mNone\u001b[0m\u001b[1;33m,\u001b[0m \u001b[0mNone\u001b[0m\u001b[1;33m,\u001b[0m \u001b[0mNone\u001b[0m\u001b[1;33m)\u001b[0m\u001b[1;33m\u001b[0m\u001b[0m\n\u001b[1;32m--> 110\u001b[1;33m         \u001b[0mSparkContext\u001b[0m\u001b[1;33m.\u001b[0m\u001b[0m_ensure_initialized\u001b[0m\u001b[1;33m(\u001b[0m\u001b[0mself\u001b[0m\u001b[1;33m,\u001b[0m \u001b[0mgateway\u001b[0m\u001b[1;33m=\u001b[0m\u001b[0mgateway\u001b[0m\u001b[1;33m)\u001b[0m\u001b[1;33m\u001b[0m\u001b[0m\n\u001b[0m\u001b[0;32m    111\u001b[0m         \u001b[1;32mtry\u001b[0m\u001b[1;33m:\u001b[0m\u001b[1;33m\u001b[0m\u001b[0m\n\u001b[0;32m    112\u001b[0m             self._do_init(master, appName, sparkHome, pyFiles, environment, batchSize, serializer,\n",
      "\u001b[1;32m/opt/spark/python/pyspark/context.pyc\u001b[0m in \u001b[0;36m_ensure_initialized\u001b[1;34m(cls, instance, gateway)\u001b[0m\n\u001b[0;32m    243\u001b[0m                         \u001b[1;34m\" created by %s at %s:%s \"\u001b[0m\u001b[1;33m\u001b[0m\u001b[0m\n\u001b[0;32m    244\u001b[0m                         % (currentAppName, currentMaster,\n\u001b[1;32m--> 245\u001b[1;33m                             callsite.function, callsite.file, callsite.linenum))\n\u001b[0m\u001b[0;32m    246\u001b[0m                 \u001b[1;32melse\u001b[0m\u001b[1;33m:\u001b[0m\u001b[1;33m\u001b[0m\u001b[0m\n\u001b[0;32m    247\u001b[0m                     \u001b[0mSparkContext\u001b[0m\u001b[1;33m.\u001b[0m\u001b[0m_active_spark_context\u001b[0m \u001b[1;33m=\u001b[0m \u001b[0minstance\u001b[0m\u001b[1;33m\u001b[0m\u001b[0m\n",
      "\u001b[1;31mValueError\u001b[0m: Cannot run multiple SparkContexts at once; existing SparkContext(app=News Processing, master=local) created by __init__ at <ipython-input-1-da79fb8e4351>:8 "
     ]
    }
   ],
   "source": [
    "from pyspark import SparkContext, SparkConf\n",
    "\n",
    "conf = (SparkConf()\n",
    "         .setMaster(\"local\")\n",
    "         .setAppName(\"News Processing\")\n",
    "         .set(\"spark.executor.memory\", \"9g\"))\n",
    "            \n",
    "sc = SparkContext(conf = conf)"
   ]
  },
  {
   "cell_type": "code",
   "execution_count": 4,
   "metadata": {
    "collapsed": false
   },
   "outputs": [],
   "source": [
    "import re\n",
    "import nltk\n",
    "import string\n",
    "import pandas as pd\n",
    "import news_config as config\n",
    "from pymystem3 import Mystem\n",
    "from NewsMongoMiner import NewsMongoHelper\n",
    "\n",
    "import sys\n",
    "reload(sys)\n",
    "sys.setdefaultencoding('utf8')\n",
    "\n",
    "%load_ext autoreload\n",
    "%autoreload 2"
   ]
  },
  {
   "cell_type": "code",
   "execution_count": 6,
   "metadata": {
    "collapsed": false
   },
   "outputs": [],
   "source": [
    "mystem = Mystem()\n",
    "mongo_helper = NewsMongoHelper()\n",
    "news = mongo_helper.get_news(config.pravda_collection)\n",
    "articles = [item['text'] for item in news]"
   ]
  },
  {
   "cell_type": "code",
   "execution_count": 7,
   "metadata": {
    "collapsed": false
   },
   "outputs": [],
   "source": [
    "stop_words = [u'', u' ', u'-', '\\n', u'–', u'это', u'еще', u'него', u'сказать', u'а', u'ж', u'нее', u'со', u'без', u'же', u'ней', \n",
    "      u'совсем', u'более', u'жизнь', u'нельзя', u'так', u'больше', u'за', u'нет', \n",
    "      u'такой', u'будет', u'зачем', u'ни', u'там', u'будто', u'здесь', u'нибудь', u'тебя', \n",
    "      u'бы', u'и', u'никогда', u'тем', u'был', u'из', u'ним', u'теперь', u'была', u'из-за', \n",
    "      u'них', u'то', u'были', u'или', u'ничего', u'тогда', u'было', u'им', u'но', u'того', \n",
    "      u'быть', u'иногда', u'ну', u'тоже', u'в', u'их', u'о', u'только', u'вам', u'к', u'об', \n",
    "      u'том', u'вас', u'кажется', u'один', u'тот', u'вдруг', u'как', u'он', u'три', u'ведь', \n",
    "      u'какая', u'она', u'тут', u'во', u'какой', u'они', u'ты', u'вот', u'когда', u'опять', \n",
    "      u'у', u'впрочем', u'конечно', u'от', u'уж', u'все', u'которого', u'перед', u'уже', u'всегда', \n",
    "      u'которые', u'по', u'хорошо', u'всего', u'кто', u'под', u'хоть', u'всех', u'куда', u'после',\n",
    "      u'чего', u'всю', u'ли', u'потом', u'человек', u'вы', u'лучше', u'потому', u'чем', u'г', u'между', \n",
    "      u'почти', u'через', u'где', u'меня', u'при', u'что', u'говорил', u'мне', u'про', u'чтоб', u'да', \n",
    "      u'много', u'раз', u'чтобы', u'даже', u'может', u'разве', u'чуть', u'два', u'можно', u'с', u'эти', \n",
    "      u'для', u'мой', u'сам', u'этого', u'до', u'моя', u'свое', u'этой', u'другой', u'мы', u'свою', \n",
    "      u'этом', u'его', u'на', u'себе', u'этот', u'ее', u'над', u'себя', u'эту', u'ей', u'надо', u'сегодня', \n",
    "      u'я', u'ему', u'наконец', u'сейчас', 'если', u'нас', 'есть', u'не', u'также']\n",
    "    \n",
    "stop_words = stop_words + nltk.corpus.stopwords.words('russian')\n",
    "stop_words = list(set(stop_words))\n",
    "\n",
    "punctuation_regex = re.compile('[%s]' % re.escape(string.punctuation))\n",
    "\n",
    "def get_stop_words_from_tokens(tokens, threshold):\n",
    "    tokens = pd.Series(tokens)\n",
    "    token_frequencies = tokens.value_counts()\n",
    "    return token_frequencies[token_frequencies < threshold].index.values.tolist()\n",
    "\n",
    "def remove_punctuation(text):\n",
    "    \"\"\" Remove single punctuation entry from tokens list \"\"\"\n",
    "    return punctuation_regex.sub('', text) \n",
    "\n",
    "def lemmatized_formatter(text):\n",
    "    return [item.lower().strip() for item in mystem.lemmatize(text) if item.strip() not in [u'', u' ']]\n",
    "\n",
    "def clean_formatter(text):\n",
    "    text = remove_punctuation(text)\n",
    "    lemmas = lemmatized_formatter(text)\n",
    "    tokens = [lemma for lemma in lemmas if not lemma in stop_words]\n",
    "    return tokens\n",
    "\n",
    "def clean_text(text):\n",
    "    tokens = clean_formatter(text)\n",
    "    return ' '.join(tokens)"
   ]
  },
  {
   "cell_type": "code",
   "execution_count": 8,
   "metadata": {
    "collapsed": false
   },
   "outputs": [],
   "source": [
    "class TextHelper:\n",
    "    @staticmethod\n",
    "    def get_tokens(text):\n",
    "        return nltk.tokenize.word_tokenize(text)\n",
    "    \n",
    "    @staticmethod\n",
    "    def get_ngrams(text, ngrams):\n",
    "        tokens = get_tokens(text)\n",
    "        ngrams = list(nltk.ngrams(tokens, ngrams))\n",
    "        return ngrams\n",
    "    \n",
    "    @staticmethod\n",
    "    def get_bigrams(text):\n",
    "        return TextHelper.get_ngrams(text, 2)\n",
    "    \n",
    "    @staticmethod\n",
    "    def get_trigrams(text):\n",
    "        return TextHelper.get_ngrams(text, 3)   \n",
    "    \n",
    "class CorporaHelper:\n",
    "    @staticmethod\n",
    "    def get_tokens(articles):\n",
    "        tokenized = [nltk.tokenize.word_tokenize(article) for article in articles]    \n",
    "        tokens = [item for sublist in tokenized for item in sublist]\n",
    "        return tokens\n",
    "    \n",
    "    @staticmethod\n",
    "    def get_ngrams(articles, ngrams):\n",
    "        text_tokens = [nltk.word_tokenize(article) for article in articles]\n",
    "        bigrams_generators = [nltk.ngrams(tokens, ngrams) for tokens in text_tokens]\n",
    "        bigrams_list = [list(bigrams) for bigrams in bigrams_generators]\n",
    "        bigrams = [item for sublist in bigrams_list for item in sublist]\n",
    "        return bigrams\n",
    "    \n",
    "    @staticmethod\n",
    "    def get_bigrams(articles):\n",
    "        return CorporaHelper.get_ngrams(articles, 2)\n",
    "    \n",
    "    @staticmethod\n",
    "    def get_trigrams(articles):\n",
    "        return CorporaHelper.get_ngrams(articles, 3)   "
   ]
  },
  {
   "cell_type": "code",
   "execution_count": 27,
   "metadata": {
    "collapsed": true
   },
   "outputs": [],
   "source": [
    "# articles_rdd = sc.parallelize(articles)\n",
    "# articles_clean = articles_rdd.map(clean_text)\n",
    "# articles_clean.cache()\n",
    "# article_tokens = articles_clean.map(TextHelper.get_tokens)"
   ]
  },
  {
   "cell_type": "code",
   "execution_count": 29,
   "metadata": {
    "collapsed": false
   },
   "outputs": [
    {
     "data": {
      "text/plain": [
       "0     [российскотеррористический, войско, усиливать,...\n",
       "1     [направление, касаться, нацбезопасность, опред...\n",
       "2                                                    []\n",
       "3     [парламентский, газета, голос, украина, среда,...\n",
       "4                                                    []\n",
       "5     [основатель, неформальный, интернетэнциклопеди...\n",
       "6     [премьерминистр, арсений, яценюк, призывать, п...\n",
       "7     [крымский, татарин, полуостров, запрещать, про...\n",
       "8     [иловайск, россия, прибывать, 4, вагон, боепри...\n",
       "9     [начало, 2015, год, число, преступление, терри...\n",
       "10    [харьковский, губернатор, игорь, райнин, утвер...\n",
       "11    [глава, русский, православный, церковь, патриа...\n",
       "12    [пять, американский, скоростной, катер, willar...\n",
       "13    [трехсторонний, переговоры, вопрос, организаци...\n",
       "14    [американский, разведывательноаналитический, к...\n",
       "15    [премьер, арсений, яценюк, поручать, привлекат...\n",
       "16    [гаи, сообщать, подробность, дтп, мариуполь, у...\n",
       "17    [боевик, свой, обстрел, снова, перебивать, под...\n",
       "18    [солдат, срочный, служба, харьковский, военный...\n",
       "19    [президент, петр, порошенко, федеральный, канц...\n",
       "20    [последний, сутки, зона, проведение, антитерро...\n",
       "21                                                   []\n",
       "22                                                   []\n",
       "23    [харьков, место, фактический, проживание, горо...\n",
       "24    [генеральный, прокуратура, уверять, обыск, хар...\n",
       "25    [боевик, обстреливать, село, нижний, попаснянс...\n",
       "26    [адвокат, надежда, савченко, марк, фейгин, сег...\n",
       "27    [группа, приват, игорь, коломойский, геннадий,...\n",
       "28    [боевик, продолжать, обстрел, бой, пытаться, в...\n",
       "29    [бывший, генералмайор, александр, коломиец, ко...\n",
       "30    [прошедший, сутки, боевик, 85, обстреливать, п...\n",
       "31    [генпрокурор, виктор, шокин, намерен, просить,...\n",
       "32    [пророссийский, боевик, течение, 22, июнь, сор...\n",
       "33    [обыск, гостиница, харьков, отель, националь, ...\n",
       "34    [украина, срок, осуществлять, очередной, купон...\n",
       "35    [россия, отвечать, продление, санкция, евросою...\n",
       "36    [министерство, юстиция, намерен, закрывать, 19...\n",
       "37    [американский, пенцентр, выступать, против, из...\n",
       "38    [компартия, украина, мочь, запрещать, несоотве...\n",
       "39    [полмиллиона, гривна, год, украина, потратить,...\n",
       "dtype: object"
      ]
     },
     "execution_count": 29,
     "metadata": {},
     "output_type": "execute_result"
    }
   ],
   "source": [
    "# a = article_tokens.take(40)\n",
    "b = pd.Series(a)\n",
    "b\n"
   ]
  }
 ],
 "metadata": {
  "kernelspec": {
   "display_name": "Python 2",
   "language": "python",
   "name": "python2"
  },
  "language_info": {
   "codemirror_mode": {
    "name": "ipython",
    "version": 2
   },
   "file_extension": ".py",
   "mimetype": "text/x-python",
   "name": "python",
   "nbconvert_exporter": "python",
   "pygments_lexer": "ipython2",
   "version": "2.7.10"
  }
 },
 "nbformat": 4,
 "nbformat_minor": 0
}

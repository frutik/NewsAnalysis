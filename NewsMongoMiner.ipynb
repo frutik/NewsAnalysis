{
 "cells": [
  {
   "cell_type": "code",
   "execution_count": 1,
   "metadata": {
    "collapsed": false
   },
   "outputs": [],
   "source": [
    "from datetime import datetime, timedelta\n",
    "from pymongo import MongoClient\n",
    "\n",
    "import NewsRequestManagers as rm\n",
    "import news_config as config\n",
    "\n",
    "%load_ext autoreload\n",
    "%autoreload 2"
   ]
  },
  {
   "cell_type": "code",
   "execution_count": 6,
   "metadata": {
    "collapsed": false
   },
   "outputs": [],
   "source": [
    "class NewsMongoHelper(object):\n",
    "    def __init__(self):\n",
    "        self.mongo_client = MongoClient(config.mongo_db_connection_string)\n",
    "    \n",
    "    def append_news(self, media, news, db = config.db):\n",
    "        \"\"\"Appends news list to specific db colllection specified by media param\n",
    "        Keyword arguments:\n",
    "            media -- collection name in mongo's db\n",
    "            news  -- list of news to store\n",
    "            db    -- mongo's db name to store in, by default takes db from config.db field\n",
    "        \"\"\"\n",
    "        collection = self.mongo_client[config.db][media]\n",
    "        collection.insert(news)\n",
    "    \n",
    "    def get_news(self, media):\n",
    "        collection = self.mongo_client[config.db][media]\n",
    "        return list(collection.find())\n",
    "    \n",
    "mongo_helper = NewsMongoHelper()"
   ]
  },
  {
   "cell_type": "code",
   "execution_count": 4,
   "metadata": {
    "collapsed": false
   },
   "outputs": [],
   "source": [
    "#request_manager = rm.PravdaRequestManager()\n",
    "# request_manager = rm.RussiaTodayRequestManager()\n",
    "\n",
    "# def get_news(request_manager):\n",
    "#     base = datetime.today()\n",
    "#     date_list = [base - timedelta(days=x) for x in range(151, 250)]\n",
    "#     # date_list = [base - timedelta(days=x) for x in range(242, 360)]\n",
    "\n",
    "#     news = []\n",
    "#     print 'Started at %s' %datetime.now()\n",
    "#     for idx, day in enumerate(date_list):\n",
    "#         print day, \n",
    "#         print '%s out of %s proccessed' %(idx+1, len(date_list))\n",
    "#         articles = request_manager.get_news(day)\n",
    "#         news = news + articles\n",
    "\n",
    "#     print 'Done at %s' %datetime.now()\n",
    "\n",
    "#     articles = [article.__dict__ for article in news]\n",
    "#     return articles\n",
    "\n",
    "# articles = get_news(request_manager)"
   ]
  },
  {
   "cell_type": "code",
   "execution_count": 5,
   "metadata": {
    "collapsed": false
   },
   "outputs": [],
   "source": [
    "# client = MongoClient(config.mongo_db_connection_string)\n",
    "# collection = client[config.db][config.russia_today_collection]\n",
    "# collection.insert_many(articles)"
   ]
  }
 ],
 "metadata": {
  "kernelspec": {
   "display_name": "Python 2",
   "language": "python",
   "name": "python2"
  },
  "language_info": {
   "codemirror_mode": {
    "name": "ipython",
    "version": 2
   },
   "file_extension": ".py",
   "mimetype": "text/x-python",
   "name": "python",
   "nbconvert_exporter": "python",
   "pygments_lexer": "ipython2",
   "version": "2.7.10"
  }
 },
 "nbformat": 4,
 "nbformat_minor": 0
}
